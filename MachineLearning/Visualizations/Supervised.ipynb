{
 "cells": [
  {
   "cell_type": "code",
   "execution_count": null,
   "id": "843252a3",
   "metadata": {},
   "outputs": [],
   "source": [
    "from pydotplus import graph_from_dot_data\n",
    "from sklearn.tree import export_graphviz\n",
    "\n",
    "\n",
    "def tree_image(tree_model, class_names, feature_names, save_at):\n",
    "    \"\"\"Function to create a tree image from a sklearn tree model.\n",
    "\n",
    "    Args:\n",
    "        tree_model (model): A sklearn tree model.\n",
    "        class_names (list): A list of class names.\n",
    "        feature_names (list): A list of feature names.\n",
    "        save_at (path): A string path to save the image.\n",
    "    \"\"\"\n",
    "\n",
    "    dot_data = export_graphviz(tree_model,\n",
    "                               filled=True, \n",
    "                               rounded=True,\n",
    "                               class_names=class_names,\n",
    "                               feature_names=feature_names,\n",
    "                               out_file=None)\n",
    "    \n",
    "    graph = graph_from_dot_data(dot_data) \n",
    "    graph.write_png(save_at)"
   ]
  },
  {
   "cell_type": "code",
   "execution_count": null,
   "id": "44a3d777",
   "metadata": {},
   "outputs": [],
   "source": []
  }
 ],
 "metadata": {
  "kernelspec": {
   "display_name": "Python 3 (ipykernel)",
   "language": "python",
   "name": "python3"
  },
  "language_info": {
   "codemirror_mode": {
    "name": "ipython",
    "version": 3
   },
   "file_extension": ".py",
   "mimetype": "text/x-python",
   "name": "python",
   "nbconvert_exporter": "python",
   "pygments_lexer": "ipython3",
   "version": "3.9.7"
  },
  "vscode": {
   "interpreter": {
    "hash": "be5c46a60dd0e1b6f7efe6fc525e839cc6d26b2b92c7df5bddaeb5e69d9407e6"
   }
  }
 },
 "nbformat": 4,
 "nbformat_minor": 5
}
